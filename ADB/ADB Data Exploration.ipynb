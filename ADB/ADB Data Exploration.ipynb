{
 "cells": [
  {
   "cell_type": "code",
   "execution_count": null,
   "metadata": {},
   "outputs": [],
   "source": [
    "# PURPOSE: Python code to query Bureau of Labor Statistics (BLS) data\n",
    "# https://www.bls.gov/developers/api_python.htm#python1\n",
    "import requests\n",
    "import json\n",
    "from pprint import pprint"
   ]
  },
  {
   "cell_type": "code",
   "execution_count": null,
   "metadata": {},
   "outputs": [],
   "source": [
    "# Query the BLS API and print it\n",
    "headers = {'Content-type': 'application/json'}\n",
    "data = json.dumps(\n",
    "    {\"seriesid\": ['CUUR0000SA0', 'SUUR0000SA0'], \"startyear\": \"2019\", \"endyear\": \"2020\"})\n",
    "p = requests.post(\n",
    "    'https://api.bls.gov/publicAPI/v2/timeseries/data/', data=data, headers=headers)\n",
    "json_data = json.loads(p.text)\n",
    "pprint(json_data)"
   ]
  }
 ],
 "metadata": {
  "kernelspec": {
   "display_name": "Python 3",
   "language": "python",
   "name": "python3"
  },
  "language_info": {
   "codemirror_mode": {
    "name": "ipython",
    "version": 3
   },
   "file_extension": ".py",
   "mimetype": "text/x-python",
   "name": "python",
   "nbconvert_exporter": "python",
   "pygments_lexer": "ipython3",
   "version": "3.6.10"
  }
 },
 "nbformat": 4,
 "nbformat_minor": 4
}
